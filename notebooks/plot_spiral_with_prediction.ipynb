{
 "cells": [
  {
   "cell_type": "code",
   "execution_count": null,
   "metadata": {},
   "outputs": [],
   "source": [
    "import numpy as np\n",
    "import pandas as pd\n",
    "\n",
    "import src\n",
    "import src.spiral\n",
    "import src.spiral_plots\n",
    "import src.utils\n",
    "\n",
    "from plotly import graph_objects as go"
   ]
  },
  {
   "cell_type": "code",
   "execution_count": null,
   "metadata": {},
   "outputs": [],
   "source": [
    "max_radius = 2\n",
    "n = 100"
   ]
  },
  {
   "cell_type": "code",
   "execution_count": null,
   "metadata": {},
   "outputs": [],
   "source": [
    "blue_spiral = src.spiral.Spiral(t_max=max_radius)\n",
    "red_spiral = src.spiral.Spiral(initial_angle=np.pi, t_max=max_radius)\n",
    "\n",
    "blue_samples = blue_spiral.sample_normalized(n)\n",
    "red_samples = red_spiral.sample_normalized(n)\n",
    "\n",
    "blue_df = pd.DataFrame({'x': blue_samples[:, 0], 'y': blue_samples[:, 1], 'spiral': 'Blue'})\n",
    "red_df = pd.DataFrame({'x': red_samples[:, 0], 'y': red_samples[:, 1], 'spiral': 'Red'})"
   ]
  },
  {
   "cell_type": "code",
   "execution_count": null,
   "metadata": {},
   "outputs": [],
   "source": [
    "x = np.linspace(-1.1*max_radius, 1.1*max_radius, 300)\n",
    "y = np.linspace(-1.1*max_radius, 1.1*max_radius, 300)\n",
    "f = lambda x,y: np.sin(4*np.sqrt(x**2 + y**2))\n",
    "Z = src.utils.create_heatmap(x,y,f, f_is_vectorized=False)"
   ]
  },
  {
   "cell_type": "code",
   "execution_count": null,
   "metadata": {},
   "outputs": [],
   "source": [
    "fig = src.spiral_plots.create_spiral_plot([blue_df, red_df], plot_radius=max_radius)\n",
    "fig.add_trace(\n",
    "    go.Heatmap(z = Z, x = x, y = y)\n",
    ")"
   ]
  },
  {
   "cell_type": "code",
   "execution_count": null,
   "metadata": {},
   "outputs": [],
   "source": []
  }
 ],
 "metadata": {
  "kernelspec": {
   "display_name": "loss-landscape",
   "language": "python",
   "name": "loss-landscape"
  },
  "language_info": {
   "codemirror_mode": {
    "name": "ipython",
    "version": 3
   },
   "file_extension": ".py",
   "mimetype": "text/x-python",
   "name": "python",
   "nbconvert_exporter": "python",
   "pygments_lexer": "ipython3",
   "version": "3.10.6"
  },
  "orig_nbformat": 4
 },
 "nbformat": 4,
 "nbformat_minor": 2
}
