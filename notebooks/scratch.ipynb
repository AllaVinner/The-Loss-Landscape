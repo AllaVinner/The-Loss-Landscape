{
 "cells": [
  {
   "cell_type": "code",
   "execution_count": null,
   "metadata": {},
   "outputs": [],
   "source": [
    "import numpy as np\n",
    "import pandas as pd"
   ]
  },
  {
   "cell_type": "code",
   "execution_count": null,
   "metadata": {},
   "outputs": [],
   "source": [
    "import src\n",
    "import src.spiral\n",
    "import src.spiral_plots"
   ]
  },
  {
   "cell_type": "code",
   "execution_count": null,
   "metadata": {},
   "outputs": [],
   "source": [
    "max_radius = 2\n",
    "blue_spiral = src.spiral.Spiral(t_max=max_radius)\n",
    "red_spiral = src.spiral.Spiral(initial_angle=np.pi, t_max=max_radius)\n",
    "n = 100\n"
   ]
  },
  {
   "cell_type": "code",
   "execution_count": null,
   "metadata": {},
   "outputs": [],
   "source": [
    "blue_samples = blue_spiral.sample_normalized(n)\n",
    "red_samples = red_spiral.sample_normalized(n)"
   ]
  },
  {
   "cell_type": "code",
   "execution_count": null,
   "metadata": {},
   "outputs": [],
   "source": [
    "blue_samples.shape"
   ]
  },
  {
   "cell_type": "code",
   "execution_count": null,
   "metadata": {},
   "outputs": [],
   "source": [
    "from plotly import graph_objects as go"
   ]
  },
  {
   "cell_type": "code",
   "execution_count": null,
   "metadata": {},
   "outputs": [],
   "source": [
    "max_radius = 2\n",
    "n = 100"
   ]
  },
  {
   "cell_type": "code",
   "execution_count": null,
   "metadata": {},
   "outputs": [],
   "source": [
    "def create_heatmap(x, y, f, f_is_vectorized = True):\n",
    "    if f_is_vectorized:\n",
    "        X, Y = np.meshgrid(x, y)\n",
    "        Z = f(X,Y)\n",
    "    else:\n",
    "        Z = np.zeros((len(y), len(x)), dtype = float)\n",
    "        for i, x_val in enumerate(x):\n",
    "            for j, y_val in enumerate(y):\n",
    "                Z[j, i] = f(x_val, y_val)\n",
    "    return Z\n"
   ]
  },
  {
   "cell_type": "code",
   "execution_count": null,
   "metadata": {},
   "outputs": [],
   "source": [
    "x = np.linspace(-1.1*max_radius, 1.1*max_radius, 300)\n",
    "y = np.linspace(-1.1*max_radius, 1.1*max_radius, 300)\n",
    "f = lambda x,y: np.sin(4*np.sqrt(x**2 + y**2) - np.angle(x+1j*y))\n",
    "Z = create_heatmap(x,y,f, f_is_vectorized=False)"
   ]
  },
  {
   "cell_type": "code",
   "execution_count": null,
   "metadata": {},
   "outputs": [],
   "source": [
    "blue_spiral = src.spiral.Spiral(t_max=max_radius)\n",
    "red_spiral = src.spiral.Spiral(initial_angle=np.pi, t_max=max_radius)\n",
    "\n",
    "blue_samples = blue_spiral.sample_normalized(n)\n",
    "red_samples = red_spiral.sample_normalized(n)\n",
    "\n",
    "blue_df = pd.DataFrame({'x': blue_samples[:, 0], 'y': blue_samples[:, 1], 'spiral': 'Blue'})\n",
    "red_df = pd.DataFrame({'x': red_samples[:, 0], 'y': red_samples[:, 1], 'spiral': 'Red'})"
   ]
  },
  {
   "cell_type": "code",
   "execution_count": null,
   "metadata": {},
   "outputs": [],
   "source": [
    "fig = create_spiral_plot([blue_df, red_df], plot_radius=max_radius)\n",
    "fig.add_trace(\n",
    "    go.Heatmap(z = Z, x = x, y = y)\n",
    ")\n"
   ]
  },
  {
   "cell_type": "code",
   "execution_count": null,
   "metadata": {},
   "outputs": [],
   "source": [
    "\n",
    "from typing import List, Dict, Optional\n",
    "from plotly import graph_objects as go\n",
    "import pandas as pd\n",
    "\n",
    "def create_spiral_plot(spirals: List[pd.DataFrame], plot_radius:float, pad_factor:float=1.1, colors: Optional[List[str]] = None, fig = None):\n",
    "    pad_factor= 1.1\n",
    "    if colors is None:\n",
    "        colors = [None]*len(spirals)\n",
    "    if fig is None:\n",
    "        fig = go.Figure()\n",
    "    for s_i, spiral in enumerate(spirals):\n",
    "        fig.add_trace(\n",
    "            go.Scatter(x = spiral.x, y=spiral.y,\n",
    "                    name= \"Spirals\", \n",
    "                    mode = 'markers',\n",
    "                    marker = dict(\n",
    "                        color = colors[s_i]\n",
    "                    )\n",
    "            )\n",
    "        )\n",
    "\n",
    "    fig.update_layout(\n",
    "        autosize=False,\n",
    "        width=500,\n",
    "        height=500,\n",
    "        xaxis = dict(\n",
    "            range = [-pad_factor*plot_radius , pad_factor*plot_radius]\n",
    "        ),\n",
    "        yaxis = dict(\n",
    "            range = [-pad_factor*plot_radius, pad_factor*plot_radius]\n",
    "        ),\n",
    "        margin=dict(\n",
    "            l=40,\n",
    "            r=0,\n",
    "            b=40,\n",
    "            t=0,\n",
    "            pad=0\n",
    "        ),\n",
    "        paper_bgcolor=\"White\",\n",
    "    )\n",
    "\n",
    "    return fig\n"
   ]
  },
  {
   "cell_type": "code",
   "execution_count": null,
   "metadata": {},
   "outputs": [],
   "source": []
  },
  {
   "cell_type": "code",
   "execution_count": null,
   "metadata": {},
   "outputs": [],
   "source": []
  }
 ],
 "metadata": {
  "kernelspec": {
   "display_name": "loss-landscape",
   "language": "python",
   "name": "loss-landscape"
  },
  "language_info": {
   "codemirror_mode": {
    "name": "ipython",
    "version": 3
   },
   "file_extension": ".py",
   "mimetype": "text/x-python",
   "name": "python",
   "nbconvert_exporter": "python",
   "pygments_lexer": "ipython3",
   "version": "3.10.6"
  },
  "orig_nbformat": 4
 },
 "nbformat": 4,
 "nbformat_minor": 2
}
